{
 "cells": [
  {
   "cell_type": "code",
   "execution_count": 148,
   "metadata": {},
   "outputs": [],
   "source": [
    "import requests\n",
    "import urllib\n",
    "from bs4 import BeautifulSoup\n",
    "from urllib.request import Request,urlopen\n",
    "from googlesearch import search \n",
    "import re\n",
    "from bs4.element import Comment\n",
    "import urllib.request"
   ]
  },
  {
   "cell_type": "code",
   "execution_count": 147,
   "metadata": {},
   "outputs": [],
   "source": [
    "def get_urls(query):\n",
    "    urls_list = []\n",
    "    for j in search(query, tld=\"co.in\", num=40, stop=40, pause=2): \n",
    "         if 'youtube' not in j:\n",
    "                urls_list.append(j)\n",
    "    return urls_list\n",
    "\n",
    "def tag_visible(element):\n",
    "    if element.parent.name in ['style', 'script', 'head', 'title', 'meta', '[document]']:\n",
    "        return False\n",
    "    if isinstance(element, Comment):\n",
    "        return False\n",
    "    return True\n",
    "\n",
    "\n",
    "def text_from_html(body):\n",
    "    soup = BeautifulSoup(body, 'html.parser')\n",
    "    texts = soup.findAll(text=True)\n",
    "    visible_texts = filter(tag_visible, texts)  \n",
    "    return u\" \".join(t.strip() for t in visible_texts)\n",
    "\n",
    "def get_corpus(urls_list):\n",
    "    errcnt = 0\n",
    "    text_corpus = ''\n",
    "    for url in urls_list:\n",
    "        try:\n",
    "            html =requests.get(url).content\n",
    "            temptext = text_from_html(html)\n",
    "            temptext =  re.sub(r'[^\\w\\s]','',temptext.lower())\n",
    "            temptext = re.sub(' +', ' ', temptext)\n",
    "            temptext = re.sub('[^a-zA-Z0-9 \\n\\.]', '', temptext)\n",
    "            text_corpus += temptext.lower()\n",
    "        except:\n",
    "            errcnt+=1\n",
    "    return text_corpus,errcnt\n",
    "\n",
    "def preprocess(filename):\n",
    "    with open(filename) as f:\n",
    "        textfile = f.readlines()\n",
    "        texttemp = f.read()\n",
    "    sentences = []\n",
    "    for line in textfile:\n",
    "        line = line.strip('\\n')\n",
    "        for sent in line.split('.'):\n",
    "            sent = sent.strip()\n",
    "            sent = re.sub(r'[^\\w\\s]','',sent)\n",
    "            sent = re.sub(' +', ' ', sent)\n",
    "            sent = re.sub('[^a-zA-Z0-9 \\n\\.]', '', sent)\n",
    "            if len(sent)>1:\n",
    "                sentences.append(sent.lower())\n",
    "    return sentences\n",
    "\n",
    "\n",
    "def check_plagirism(text_corpus,tst0):\n",
    "    count = 0\n",
    "    origcount = 0\n",
    "    for line in tst0:\n",
    "        xx = re.search(line,text_corpus)\n",
    "        if xx !=None:\n",
    "            count+=1\n",
    "        else:\n",
    "            origcount+=1\n",
    "#             print(line)\n",
    "    plagirism_percent = (count/len(tst0))*100\n",
    "    return plagirism_percent"
   ]
  },
  {
   "cell_type": "code",
   "execution_count": 142,
   "metadata": {},
   "outputs": [],
   "source": [
    "def run_code(filename,query):\n",
    "    urls_list = get_urls(query)\n",
    "    text_corpus,errcnt = get_corpus(urls_list)\n",
    "    tst0 = preprocess(filename)\n",
    "    plagirism_percent = check_plagirism(text_corpus,tst0)\n",
    "    print(plagirism_percent)\n",
    "    return plagirism_percent"
   ]
  },
  {
   "cell_type": "code",
   "execution_count": 143,
   "metadata": {},
   "outputs": [
    {
     "name": "stdout",
     "output_type": "stream",
     "text": [
      "100.0\n"
     ]
    },
    {
     "data": {
      "text/plain": [
       "100.0"
      ]
     },
     "execution_count": 143,
     "metadata": {},
     "output_type": "execute_result"
    }
   ],
   "source": [
    "query = \"get data from lazy loaded content beautifulsoup\"\n",
    "filename = './temptext.txt'\n",
    "run_code(filename,query)"
   ]
  },
  {
   "cell_type": "code",
   "execution_count": 146,
   "metadata": {},
   "outputs": [
    {
     "name": "stderr",
     "output_type": "stream",
     "text": [
      "Some characters could not be decoded, and were replaced with REPLACEMENT CHARACTER.\n",
      "Some characters could not be decoded, and were replaced with REPLACEMENT CHARACTER.\n",
      "Some characters could not be decoded, and were replaced with REPLACEMENT CHARACTER.\n",
      "Some characters could not be decoded, and were replaced with REPLACEMENT CHARACTER.\n"
     ]
    },
    {
     "name": "stdout",
     "output_type": "stream",
     "text": [
      "in mathematics and computer science dynamic programming is a method of solving problems that exhibit the properties of overlapping subproblems and optimal substructure described below\n",
      "the method takes much less time than naive methods\n",
      "the term was originally used in the 1940s by richard bellman to describe the process of solving problems where one needs to find the best decisions one after another\n",
      "by 1953 he had refined this to the modern meaning\n",
      "the field was founded as a systems analysis and engineering topic that is recognized by the ieee\n",
      "the word programming in dynamic programming has no particular connection to computer programming at all and instead comes from the term mathematical programming a synonym for optimization\n",
      "thus the program is the optimal plan for action that is produced\n",
      "for instance a finalized schedule of events at an exhibition is sometimes called a program\n",
      "programming in this sense means finding an acceptable plan of action an algorithm\n",
      "optimal substructure means that optimal solutions of subproblems can be used to find the optimal solutions of the overall problem\n",
      "for example the shortest path to a goal from a vertex in a graph can be found by first computing the shortest path to the goal from all adjacent vertices and then using this to pick the best overall path as shown in figure 1\n",
      "in general we can solve a problem with optimal substructure using a threestep process\n",
      "break the problem into smaller subproblems\n",
      "solve these problems optimally using this threestep process recursively\n",
      "use these optimal solutions to construct an optimal solution for the original problem\n",
      "the subproblems are themselves solved by dividing them into subsubproblems and so on until we reach some simple case that is solvable in constant time\n",
      "that it is not a tree but a dag indicates overlapping subproblems\n",
      "to say that a problem has overlapping subproblems is to say that the same subproblems are used to solve many different larger problems\n",
      "for example in the fibonacci sequence f3 f1 f2 and f4 f2 f3  computing each number involves computing f2\n",
      "because both f3 and f4 are needed to compute f5 a naive approach to computing f5 may end up computing f2 twice or more\n",
      "this applies whenever overlapping subproblems are present a naive approach may waste time recomputing optimal solutions to subproblems it has already solved\n",
      "in order to avoid this we instead save the solutions to problems we have already solved\n",
      "then if we need to solve the same problem later we can retrieve and reuse our alreadycomputed solution\n",
      "this approach is called memoization not memorization although this term also fits\n",
      "if we are sure we wont need a particular solution anymore we can throw it away to save space\n",
      "in some cases we can even compute the solutions to subproblems we know that well need in advance\n",
      "10.344827586206897\n"
     ]
    },
    {
     "data": {
      "text/plain": [
       "10.344827586206897"
      ]
     },
     "execution_count": 146,
     "metadata": {},
     "output_type": "execute_result"
    }
   ],
   "source": [
    "query = \"dynamic programming\"\n",
    "filename = './corpus-20090418/orig_taske.txt'\n",
    "run_code(filename,query)"
   ]
  },
  {
   "cell_type": "code",
   "execution_count": null,
   "metadata": {},
   "outputs": [],
   "source": []
  }
 ],
 "metadata": {
  "kernelspec": {
   "display_name": "Python 3",
   "language": "python",
   "name": "python3"
  },
  "language_info": {
   "codemirror_mode": {
    "name": "ipython",
    "version": 3
   },
   "file_extension": ".py",
   "mimetype": "text/x-python",
   "name": "python",
   "nbconvert_exporter": "python",
   "pygments_lexer": "ipython3",
   "version": "3.7.7"
  }
 },
 "nbformat": 4,
 "nbformat_minor": 4
}
